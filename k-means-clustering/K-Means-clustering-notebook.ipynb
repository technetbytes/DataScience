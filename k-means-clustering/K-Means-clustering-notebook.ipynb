{
 "cells": [
  {
   "cell_type": "markdown",
   "metadata": {},
   "source": [
    "In this IPython Notebook we are going to see the K-Means machine learning algorithm implementation using scikit-learn and bokeh plotting library."
   ]
  },
  {
   "cell_type": "markdown",
   "metadata": {},
   "source": [
    "# K-Means Clustering"
   ]
  },
  {
   "cell_type": "markdown",
   "metadata": {},
   "source": [
    "K-Means is the simplest and the best known un-supervised clustering alogrithm. The aims of this algorithm \n",
    "is to partition a set of objects, based on their attributes, into k clusters or center points also called centroid, where k is \n",
    "a predefined or user-defined constant. The main goal is to classify data into groups of information."
   ]
  },
  {
   "cell_type": "code",
   "execution_count": null,
   "metadata": {
    "collapsed": true
   },
   "outputs": [],
   "source": [
    "from sklearn.cluster import KMeans\n",
    "import numpy as np\n",
    "import bokeh.plotting\n",
    "from bokeh.plotting import figure\n",
    "from sklearn import datasets"
   ]
  },
  {
   "cell_type": "markdown",
   "metadata": {},
   "source": [
    "# initialize bokeh in ipython"
   ]
  },
  {
   "cell_type": "code",
   "execution_count": null,
   "metadata": {
    "collapsed": false
   },
   "outputs": [],
   "source": [
    "bokeh.plotting.output_notebook() "
   ]
  },
  {
   "cell_type": "markdown",
   "metadata": {},
   "source": [
    "# use Iris Dataset"
   ]
  },
  {
   "cell_type": "code",
   "execution_count": null,
   "metadata": {
    "collapsed": true
   },
   "outputs": [],
   "source": [
    "iris = datasets.load_iris()\n",
    "petal_data = iris.data[:,2:]"
   ]
  },
  {
   "cell_type": "markdown",
   "metadata": {},
   "source": [
    "# perform k-means analysis on iris data\n",
    "\n",
    " Default value of n_clusters is 8 in scikit-learn"
   ]
  },
  {
   "cell_type": "code",
   "execution_count": null,
   "metadata": {
    "collapsed": false
   },
   "outputs": [],
   "source": [
    "kmean = KMeans(n_clusters=3)\n",
    "kmean.fit(petal_data)"
   ]
  },
  {
   "cell_type": "markdown",
   "metadata": {},
   "source": [
    "# initialize our bokeh plot"
   ]
  },
  {
   "cell_type": "code",
   "execution_count": null,
   "metadata": {
    "collapsed": true
   },
   "outputs": [],
   "source": [
    "plot = figure(width=500, height=500, title='Iris Petals', x_axis_label = \"Petal Length\", y_axis_label = \"Petal Width\")"
   ]
  },
  {
   "cell_type": "markdown",
   "metadata": {},
   "source": [
    "# get cluster values from the k-means algorithm"
   ]
  },
  {
   "cell_type": "code",
   "execution_count": null,
   "metadata": {
    "collapsed": true
   },
   "outputs": [],
   "source": [
    "clus_xs = []\n",
    "clus_ys = []\n",
    "\n",
    "for entry in kmean.cluster_centers_:\n",
    "   clus_xs.append(entry[0])\n",
    "   clus_ys.append(entry[1])"
   ]
  },
  {
   "cell_type": "markdown",
   "metadata": {},
   "source": [
    "# plotting centroid and petal data length / width in two steps\n",
    "\n",
    "1. First we have to marked centroid center on the plot."
   ]
  },
  {
   "cell_type": "code",
   "execution_count": null,
   "metadata": {
    "collapsed": false
   },
   "outputs": [],
   "source": [
    "plot.circle_cross(x=clus_xs, y=clus_ys, size=20, fill_alpha=0, line_width=2, color=['red', 'blue', 'purple'])\n",
    "plot.text(text = ['setosa', 'versicolor', 'virginica'], x=clus_xs, y=clus_ys, text_font_size='30pt')"
   ]
  },
  {
   "cell_type": "raw",
   "metadata": {},
   "source": [
    " 2. Using labels_ to draw points according to their respective cluster."
   ]
  },
  {
   "cell_type": "code",
   "execution_count": null,
   "metadata": {
    "collapsed": true
   },
   "outputs": [],
   "source": [
    "x = 0\n",
    "for sample in petal_data:\n",
    "# \"labels_\" tells us which cluster each plot point is a member of\n",
    "  if kmean.labels_[x] == 0:\n",
    "     plot.circle(x=sample[0], y=sample[1], size=15, color=\"red\")\n",
    "  if kmean.labels_[x] == 1:\n",
    "     plot.circle(x=sample[0], y=sample[1], size=15, color=\"blue\")\n",
    "  if kmean.labels_[x] == 2:\n",
    "     plot.circle(x=sample[0], y=sample[1], size=15, color=\"purple\")\n",
    "        \n",
    "  x += 1"
   ]
  },
  {
   "cell_type": "markdown",
   "metadata": {},
   "source": [
    "# show plotting work using plotting.show() function"
   ]
  },
  {
   "cell_type": "code",
   "execution_count": null,
   "metadata": {
    "collapsed": false
   },
   "outputs": [],
   "source": [
    "bokeh.plotting.show(plot)"
   ]
  },
  {
   "cell_type": "code",
   "execution_count": null,
   "metadata": {
    "collapsed": true
   },
   "outputs": [],
   "source": []
  }
 ],
 "metadata": {
  "kernelspec": {
   "display_name": "Python 2",
   "language": "python",
   "name": "python2"
  },
  "language_info": {
   "codemirror_mode": {
    "name": "ipython",
    "version": 2
   },
   "file_extension": ".py",
   "mimetype": "text/x-python",
   "name": "python",
   "nbconvert_exporter": "python",
   "pygments_lexer": "ipython2",
   "version": "2.7.11+"
  }
 },
 "nbformat": 4,
 "nbformat_minor": 0
}
